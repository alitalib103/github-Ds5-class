{
 "cells": [
  {
   "cell_type": "markdown",
   "id": "8d86b85e",
   "metadata": {},
   "source": [
    "## Import Libraries"
   ]
  },
  {
   "cell_type": "code",
   "execution_count": null,
   "id": "2ac5d182",
   "metadata": {},
   "outputs": [],
   "source": []
  },
  {
   "cell_type": "markdown",
   "id": "04d55c57",
   "metadata": {},
   "source": [
    "## Read Car_Sales.csv Data"
   ]
  },
  {
   "cell_type": "code",
   "execution_count": null,
   "id": "ef93cc5f",
   "metadata": {},
   "outputs": [],
   "source": []
  },
  {
   "cell_type": "markdown",
   "id": "09efe495",
   "metadata": {},
   "source": [
    "### Shape of Data"
   ]
  },
  {
   "cell_type": "code",
   "execution_count": null,
   "id": "e757ebd3",
   "metadata": {},
   "outputs": [],
   "source": []
  },
  {
   "cell_type": "markdown",
   "id": "3d7602a8",
   "metadata": {},
   "source": [
    "## Let's Explore the data"
   ]
  },
  {
   "cell_type": "code",
   "execution_count": null,
   "id": "5f9fb147",
   "metadata": {},
   "outputs": [],
   "source": []
  },
  {
   "cell_type": "markdown",
   "id": "2080cf19",
   "metadata": {},
   "source": [
    "### Basic information about the dataset and data types"
   ]
  },
  {
   "cell_type": "code",
   "execution_count": null,
   "id": "2064117d",
   "metadata": {},
   "outputs": [],
   "source": []
  },
  {
   "cell_type": "markdown",
   "id": "7f7b9726",
   "metadata": {},
   "source": [
    "Prior to summary statistics, identify missing values or duplicates and drop them."
   ]
  },
  {
   "cell_type": "markdown",
   "id": "00afb5ab",
   "metadata": {},
   "source": [
    "### Missing values"
   ]
  },
  {
   "cell_type": "code",
   "execution_count": null,
   "id": "612f26d3",
   "metadata": {},
   "outputs": [],
   "source": []
  },
  {
   "cell_type": "code",
   "execution_count": null,
   "id": "be54a2cf",
   "metadata": {},
   "outputs": [],
   "source": []
  },
  {
   "cell_type": "markdown",
   "id": "01c6f8ae",
   "metadata": {},
   "source": [
    "## Check Duplicates"
   ]
  },
  {
   "cell_type": "code",
   "execution_count": null,
   "id": "f1730d5c",
   "metadata": {},
   "outputs": [],
   "source": []
  },
  {
   "cell_type": "markdown",
   "id": "659845a1",
   "metadata": {},
   "source": [
    "### Keep only numeric columns in a dataframe \n",
    "\n",
    "hint: (use function select_dtype)"
   ]
  },
  {
   "cell_type": "code",
   "execution_count": null,
   "id": "cadf34b7",
   "metadata": {},
   "outputs": [],
   "source": []
  },
  {
   "cell_type": "markdown",
   "id": "38d7d351",
   "metadata": {},
   "source": [
    "### Summary statistics"
   ]
  },
  {
   "cell_type": "code",
   "execution_count": null,
   "id": "b370b8b5",
   "metadata": {},
   "outputs": [],
   "source": []
  },
  {
   "cell_type": "markdown",
   "id": "9489642a",
   "metadata": {},
   "source": [
    "## Distribution"
   ]
  },
  {
   "cell_type": "code",
   "execution_count": null,
   "id": "1b4d776b",
   "metadata": {},
   "outputs": [],
   "source": []
  },
  {
   "cell_type": "markdown",
   "id": "f1028856",
   "metadata": {},
   "source": [
    "## Normalized Distribution (Gaussian)"
   ]
  },
  {
   "cell_type": "code",
   "execution_count": null,
   "id": "ff5cc196",
   "metadata": {},
   "outputs": [],
   "source": []
  },
  {
   "cell_type": "markdown",
   "id": "c4bf3e84",
   "metadata": {},
   "source": [
    "## Skewed Distribution (negative and positive)\n"
   ]
  },
  {
   "cell_type": "code",
   "execution_count": null,
   "id": "caf1df95",
   "metadata": {},
   "outputs": [],
   "source": []
  },
  {
   "cell_type": "markdown",
   "id": "87ccb37e",
   "metadata": {},
   "source": [
    "## Outliers\n",
    "\n",
    "Plot Boxplot"
   ]
  },
  {
   "cell_type": "code",
   "execution_count": null,
   "id": "1fc944b1",
   "metadata": {},
   "outputs": [],
   "source": []
  },
  {
   "cell_type": "markdown",
   "id": "99c04496",
   "metadata": {},
   "source": [
    "## Z-score\n",
    "\n",
    "Detect Outliers using Z-Score. (Set threshold =3)"
   ]
  },
  {
   "cell_type": "code",
   "execution_count": null,
   "id": "9c07d5d7",
   "metadata": {},
   "outputs": [],
   "source": []
  },
  {
   "cell_type": "code",
   "execution_count": null,
   "id": "d1e169a5",
   "metadata": {},
   "outputs": [],
   "source": []
  },
  {
   "cell_type": "markdown",
   "id": "5e747499",
   "metadata": {},
   "source": [
    "## Remove outliers"
   ]
  },
  {
   "cell_type": "code",
   "execution_count": null,
   "id": "8294e1de",
   "metadata": {},
   "outputs": [],
   "source": []
  },
  {
   "cell_type": "code",
   "execution_count": null,
   "id": "1256f424",
   "metadata": {},
   "outputs": [],
   "source": []
  },
  {
   "cell_type": "code",
   "execution_count": null,
   "id": "bb87da27",
   "metadata": {},
   "outputs": [],
   "source": []
  },
  {
   "cell_type": "markdown",
   "id": "0dfd6854",
   "metadata": {},
   "source": [
    "## Distribution Check"
   ]
  },
  {
   "cell_type": "code",
   "execution_count": null,
   "id": "e9ee5b72",
   "metadata": {},
   "outputs": [],
   "source": []
  },
  {
   "cell_type": "markdown",
   "id": "f0bdc9d1",
   "metadata": {},
   "source": [
    "#### Use binning technique to remove Skewness "
   ]
  },
  {
   "cell_type": "code",
   "execution_count": null,
   "id": "1fd84bd5",
   "metadata": {},
   "outputs": [],
   "source": []
  },
  {
   "cell_type": "markdown",
   "id": "abb72078",
   "metadata": {},
   "source": [
    "## Distribution check\n",
    "To confirm if skewness is removed or not"
   ]
  },
  {
   "cell_type": "code",
   "execution_count": null,
   "id": "7428bd3c",
   "metadata": {},
   "outputs": [],
   "source": []
  },
  {
   "cell_type": "markdown",
   "id": "45649702",
   "metadata": {},
   "source": [
    "### Standardization and Normalization"
   ]
  },
  {
   "cell_type": "markdown",
   "id": "5c19129a",
   "metadata": {},
   "source": [
    "Apply standardization and normalization on the columns"
   ]
  },
  {
   "cell_type": "code",
   "execution_count": null,
   "id": "f1ab175c",
   "metadata": {},
   "outputs": [],
   "source": []
  },
  {
   "cell_type": "code",
   "execution_count": null,
   "id": "07953bfb",
   "metadata": {},
   "outputs": [],
   "source": []
  },
  {
   "cell_type": "code",
   "execution_count": null,
   "id": "8f3c1049",
   "metadata": {},
   "outputs": [],
   "source": []
  },
  {
   "cell_type": "markdown",
   "id": "a4dcd3bd",
   "metadata": {},
   "source": [
    "## Standardization"
   ]
  },
  {
   "cell_type": "code",
   "execution_count": null,
   "id": "5691bcb2",
   "metadata": {},
   "outputs": [],
   "source": []
  },
  {
   "cell_type": "code",
   "execution_count": null,
   "id": "d01919b5",
   "metadata": {},
   "outputs": [],
   "source": []
  },
  {
   "cell_type": "code",
   "execution_count": null,
   "id": "05fb82f3",
   "metadata": {},
   "outputs": [],
   "source": []
  },
  {
   "cell_type": "markdown",
   "id": "6ddbc4d0",
   "metadata": {},
   "source": [
    "## Normalization"
   ]
  },
  {
   "cell_type": "code",
   "execution_count": null,
   "id": "f7f510e6",
   "metadata": {},
   "outputs": [],
   "source": []
  },
  {
   "cell_type": "code",
   "execution_count": null,
   "id": "c397cdd4",
   "metadata": {},
   "outputs": [],
   "source": []
  },
  {
   "cell_type": "code",
   "execution_count": null,
   "id": "ed5719a3",
   "metadata": {},
   "outputs": [],
   "source": []
  },
  {
   "cell_type": "markdown",
   "id": "842718e9",
   "metadata": {},
   "source": [
    "## Distribution check"
   ]
  },
  {
   "cell_type": "code",
   "execution_count": null,
   "id": "795c6b46",
   "metadata": {},
   "outputs": [],
   "source": []
  },
  {
   "cell_type": "markdown",
   "id": "dcf403fe",
   "metadata": {},
   "source": [
    "## The END!"
   ]
  }
 ],
 "metadata": {
  "kernelspec": {
   "display_name": "Python 3 (ipykernel)",
   "language": "python",
   "name": "python3"
  },
  "language_info": {
   "codemirror_mode": {
    "name": "ipython",
    "version": 3
   },
   "file_extension": ".py",
   "mimetype": "text/x-python",
   "name": "python",
   "nbconvert_exporter": "python",
   "pygments_lexer": "ipython3",
   "version": "3.11.5"
  }
 },
 "nbformat": 4,
 "nbformat_minor": 5
}
